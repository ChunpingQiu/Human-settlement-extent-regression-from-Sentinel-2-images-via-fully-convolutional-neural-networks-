{
 "cells": [
  {
   "cell_type": "code",
   "execution_count": 15,
   "metadata": {},
   "outputs": [
    {
     "name": "stdout",
     "output_type": "stream",
     "text": [
      "[[ 0  1  2  3]\n",
      " [ 4  5  6  7]\n",
      " [ 8  9 10 11]\n",
      " [12 13 14 15]\n",
      " [16 17 18 19]]\n",
      "[[ 2.5   4.5 ]\n",
      " [10.5  12.5 ]\n",
      " [ 8.25  9.25]]\n"
     ]
    }
   ],
   "source": [
    "import skimage.measure\n",
    "import numpy as np\n",
    "\n",
    "A = np.arange(5*4).reshape(5, 4)\n",
    "print(A)\n",
    "\n",
    "B = skimage.measure.block_reduce(A, (2, 2), np.mean)\n",
    "print(B)"
   ]
  },
  {
   "cell_type": "code",
   "execution_count": 1,
   "metadata": {},
   "outputs": [
    {
     "name": "stdout",
     "output_type": "stream",
     "text": [
      "[[ 0  1  2  3]\n",
      " [ 4  5  6  7]\n",
      " [ 8  9 10 11]\n",
      " [12 13 14 15]\n",
      " [16 17 18 19]]\n"
     ]
    }
   ],
   "source": [
    "from skimage.util.shape import view_as_windows\n",
    "import numpy as np\n",
    "\n",
    "A = np.arange(5*4).reshape(5, 4)\n",
    "print(A)"
   ]
  },
  {
   "cell_type": "code",
   "execution_count": 3,
   "metadata": {},
   "outputs": [
    {
     "name": "stdout",
     "output_type": "stream",
     "text": [
      "[[[[ 0  1  2  3]\n",
      "   [ 4  5  6  7]\n",
      "   [ 8  9 10 11]\n",
      "   [12 13 14 15]]]] (1, 1, 4, 4)\n"
     ]
    }
   ],
   "source": [
    "B = view_as_windows(A, (4,4),step=4)\n",
    "print(B, B.shape)"
   ]
  },
  {
   "cell_type": "code",
   "execution_count": 7,
   "metadata": {},
   "outputs": [
    {
     "name": "stdout",
     "output_type": "stream",
     "text": [
      "[[[ 0  1]\n",
      "  [ 4  5]]\n",
      "\n",
      " [[ 2  3]\n",
      "  [ 6  7]]\n",
      "\n",
      " [[ 8  9]\n",
      "  [12 13]]\n",
      "\n",
      " [[10 11]\n",
      "  [14 15]]] (4, 2, 2)\n"
     ]
    }
   ],
   "source": [
    "C = view_as_windows(A, (2,2),step=2)\n",
    "y=np.reshape(C, (-1, 2, 2))\n",
    "print(y, y.shape)"
   ]
  },
  {
   "cell_type": "code",
   "execution_count": 8,
   "metadata": {},
   "outputs": [
    {
     "name": "stdout",
     "output_type": "stream",
     "text": [
      "[[[[ 0]\n",
      "   [ 1]]\n",
      "\n",
      "  [[ 4]\n",
      "   [ 5]]]\n",
      "\n",
      "\n",
      " [[[ 2]\n",
      "   [ 3]]\n",
      "\n",
      "  [[ 6]\n",
      "   [ 7]]]\n",
      "\n",
      "\n",
      " [[[ 8]\n",
      "   [ 9]]\n",
      "\n",
      "  [[12]\n",
      "   [13]]]\n",
      "\n",
      "\n",
      " [[[10]\n",
      "   [11]]\n",
      "\n",
      "  [[14]\n",
      "   [15]]]] (4, 2, 2, 1)\n"
     ]
    }
   ],
   "source": [
    "y = np.expand_dims(y, axis=-1)\n",
    "print(y, y.shape)"
   ]
  },
  {
   "cell_type": "code",
   "execution_count": 9,
   "metadata": {},
   "outputs": [
    {
     "name": "stdout",
     "output_type": "stream",
     "text": [
      "B_.shape (2, 2, 2, 2, 1)\n"
     ]
    }
   ],
   "source": [
    "mapR=C.shape[0]\n",
    "mapC=C.shape[1]\n",
    "B_=np.reshape(C, (mapR, mapC, y.shape[1], y.shape[2], y.shape[-1]))\n",
    "print('B_.shape', B_.shape)"
   ]
  },
  {
   "cell_type": "code",
   "execution_count": 14,
   "metadata": {},
   "outputs": [
    {
     "name": "stdout",
     "output_type": "stream",
     "text": [
      "D.shape (4, 4) [[ 0  1  2  3]\n",
      " [ 4  5  6  7]\n",
      " [ 8  9 10 11]\n",
      " [12 13 14 15]]\n"
     ]
    }
   ],
   "source": [
    "B_1 = B_[:,:,:,:,0]\n",
    "D=B_1.transpose(0,2,1,3).reshape(-1, B_1.shape[1]*B_1.shape[3])\n",
    "print('D.shape', D.shape, D)"
   ]
  }
 ],
 "metadata": {
  "kernelspec": {
   "display_name": "pyNNQiu",
   "language": "python",
   "name": "pynnqiu"
  },
  "language_info": {
   "codemirror_mode": {
    "name": "ipython",
    "version": 3
   },
   "file_extension": ".py",
   "mimetype": "text/x-python",
   "name": "python",
   "nbconvert_exporter": "python",
   "pygments_lexer": "ipython3",
   "version": "3.6.4"
  }
 },
 "nbformat": 4,
 "nbformat_minor": 2
}
